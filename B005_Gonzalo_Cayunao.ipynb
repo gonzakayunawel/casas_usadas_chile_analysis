{
 "cells": [
  {
   "cell_type": "markdown",
   "metadata": {},
   "source": [
    "---\n",
    "---\n",
    "# **ANÁLISIS Y VISUALIZACIÓN DE DATOS**\n",
    "\n",
    "![](./facultad_de_ingeniera_y_tecnologa_uss_logo.jpeg)\n",
    "\n",
    "**Software para Data Science II - Magíster en Data Science - Facultad de Ingeniería, Arquitectura y Diseño - Universidad San Sebastián**\n",
    "\n",
    "**Docente:** Paulette N. Reyes Baeza\n",
    "\n",
    "**Autor:** Gonzalo Daniel Cayunao Erices\n",
    "\n",
    "<img src='https://cdn-icons-png.flaticon.com/512/25/25231.png' width=3%>   [Github del Proyecto](https://github.com/gonzakayunawel/casas_usadas_chile_analysis)\n",
    "\n",
    "---\n",
    "---"
   ]
  },
  {
   "cell_type": "markdown",
   "metadata": {},
   "source": [
    "## **Valor Casas Usadas, Chile, RM, 18/07/2023**\n",
    "Avisos de venta de casas de la Region Metropolitana, Santiago\n",
    "\n",
    "![](./dataset-cover.jpg)\n",
    "\n",
    "### **Sobre el DataSet**\n",
    "Datos extraídos usando la técnica de *Web Scraping* desde el sitio web https://chilepropiedades.cl/\n",
    "\n",
    "Este dataset solo contiene CASAS en venta. No incluye departamentos o terrenos.\n",
    "\n",
    "Al utilizar *Web Scraping* es muy posible que hayan avisos cuya información fue ingresada incorrectamente. ej: Una casa con 100 km2 de terreno.\n",
    "\n",
    "### **Contenidos**\n",
    "Este dataset contiene 12 columnas\n",
    "\n",
    "- Price_CLP: Precio de casa en pesos chilenos (CLP)\n",
    "- Price_UF: Precio de casa en unidades de fomento (UF)\n",
    "- Price_USD: Precio de casa en dolares americanos (USD)\n",
    "- Comuna: Comuna en la que se encuentra la casa.\n",
    "- Ubicacion: Ubicación más específica de la casa\n",
    "- Dorms: Cuantas habitaciones tiene la casa\n",
    "- Baths: Cuantos baños tiene la casa\n",
    "- Built Area: Cuantos metros cuadrados construidos tiene la casa\n",
    "- Total Area: Cuantos metros cuadrados tiene toda la propiedad\n",
    "- Parking: Cuantos estacionamentos tiene la casa\n",
    "- id: Codigo de la casa en https://chilepropiedades.cl/ ; Ej: https://chilepropiedades.cl/ver-publicacion/11607213\n",
    "- Realtor: El corredor de bienes raíces\n",
    "\n",
    "### **Fuente de los datos**\n",
    "https://www.kaggle.com/datasets/luisfelipetn/valor-casas-usadas-chile-rm-08032023"
   ]
  },
  {
   "cell_type": "markdown",
   "metadata": {},
   "source": [
    "# Resumen del dataframe"
   ]
  },
  {
   "cell_type": "code",
   "execution_count": 1,
   "metadata": {},
   "outputs": [],
   "source": [
    "import pandas as pd\n",
    "import numpy as np\n",
    "import matplotlib.pyplot as plt\n",
    "import seaborn as sns\n"
   ]
  },
  {
   "cell_type": "code",
   "execution_count": 2,
   "metadata": {},
   "outputs": [],
   "source": [
    "data = pd.read_csv(\"./2023-03-08 Precios Casas RM.csv\")\n",
    "df = pd.DataFrame(data)"
   ]
  },
  {
   "cell_type": "code",
   "execution_count": 3,
   "metadata": {},
   "outputs": [
    {
     "data": {
      "text/plain": [
       "(7779, 12)"
      ]
     },
     "execution_count": 3,
     "metadata": {},
     "output_type": "execute_result"
    }
   ],
   "source": [
    "df.shape"
   ]
  },
  {
   "cell_type": "code",
   "execution_count": 4,
   "metadata": {},
   "outputs": [
    {
     "name": "stdout",
     "output_type": "stream",
     "text": [
      "<class 'pandas.core.frame.DataFrame'>\n",
      "RangeIndex: 7779 entries, 0 to 7778\n",
      "Data columns (total 12 columns):\n",
      " #   Column      Non-Null Count  Dtype  \n",
      "---  ------      --------------  -----  \n",
      " 0   Price_CLP   7779 non-null   int64  \n",
      " 1   Price_UF    7779 non-null   int64  \n",
      " 2   Price_USD   7779 non-null   int64  \n",
      " 3   Comuna      7779 non-null   object \n",
      " 4   Ubicacion   7779 non-null   object \n",
      " 5   Dorms       7779 non-null   int64  \n",
      " 6   Baths       7714 non-null   float64\n",
      " 7   Built Area  7533 non-null   float64\n",
      " 8   Total Area  7571 non-null   float64\n",
      " 9   Parking     5489 non-null   float64\n",
      " 10  id          7779 non-null   int64  \n",
      " 11  Realtor     7184 non-null   object \n",
      "dtypes: float64(4), int64(5), object(3)\n",
      "memory usage: 729.4+ KB\n"
     ]
    }
   ],
   "source": [
    "df.info()"
   ]
  },
  {
   "cell_type": "code",
   "execution_count": 5,
   "metadata": {},
   "outputs": [
    {
     "data": {
      "text/plain": [
       "Parking       2290\n",
       "Realtor        595\n",
       "Built Area     246\n",
       "Total Area     208\n",
       "Baths           65\n",
       "Price_CLP        0\n",
       "Price_UF         0\n",
       "Price_USD        0\n",
       "Comuna           0\n",
       "Ubicacion        0\n",
       "Dorms            0\n",
       "id               0\n",
       "dtype: int64"
      ]
     },
     "execution_count": 5,
     "metadata": {},
     "output_type": "execute_result"
    }
   ],
   "source": [
    "df.isna().sum().sort_values(ascending=False)"
   ]
  },
  {
   "cell_type": "code",
   "execution_count": 6,
   "metadata": {},
   "outputs": [
    {
     "data": {
      "text/html": [
       "<div>\n",
       "<style scoped>\n",
       "    .dataframe tbody tr th:only-of-type {\n",
       "        vertical-align: middle;\n",
       "    }\n",
       "\n",
       "    .dataframe tbody tr th {\n",
       "        vertical-align: top;\n",
       "    }\n",
       "\n",
       "    .dataframe thead th {\n",
       "        text-align: right;\n",
       "    }\n",
       "</style>\n",
       "<table border=\"1\" class=\"dataframe\">\n",
       "  <thead>\n",
       "    <tr style=\"text-align: right;\">\n",
       "      <th></th>\n",
       "      <th>Price_CLP</th>\n",
       "      <th>Price_UF</th>\n",
       "      <th>Price_USD</th>\n",
       "      <th>Dorms</th>\n",
       "      <th>Baths</th>\n",
       "      <th>Built Area</th>\n",
       "      <th>Total Area</th>\n",
       "      <th>Parking</th>\n",
       "      <th>id</th>\n",
       "    </tr>\n",
       "  </thead>\n",
       "  <tbody>\n",
       "    <tr>\n",
       "      <th>count</th>\n",
       "      <td>7.779000e+03</td>\n",
       "      <td>7779.000000</td>\n",
       "      <td>7.779000e+03</td>\n",
       "      <td>7779.000000</td>\n",
       "      <td>7714.000000</td>\n",
       "      <td>7533.000000</td>\n",
       "      <td>7571.000000</td>\n",
       "      <td>5489.000000</td>\n",
       "      <td>7.779000e+03</td>\n",
       "    </tr>\n",
       "    <tr>\n",
       "      <th>mean</th>\n",
       "      <td>3.642481e+08</td>\n",
       "      <td>10234.571153</td>\n",
       "      <td>4.536091e+05</td>\n",
       "      <td>3.994087</td>\n",
       "      <td>2.653746</td>\n",
       "      <td>229.923669</td>\n",
       "      <td>807.919826</td>\n",
       "      <td>2.980506</td>\n",
       "      <td>9.910828e+06</td>\n",
       "    </tr>\n",
       "    <tr>\n",
       "      <th>std</th>\n",
       "      <td>3.868810e+08</td>\n",
       "      <td>10870.491584</td>\n",
       "      <td>4.817945e+05</td>\n",
       "      <td>1.622821</td>\n",
       "      <td>1.465103</td>\n",
       "      <td>1676.898812</td>\n",
       "      <td>9050.893115</td>\n",
       "      <td>17.749384</td>\n",
       "      <td>2.046317e+06</td>\n",
       "    </tr>\n",
       "    <tr>\n",
       "      <th>min</th>\n",
       "      <td>2.085000e+03</td>\n",
       "      <td>0.000000</td>\n",
       "      <td>3.000000e+00</td>\n",
       "      <td>1.000000</td>\n",
       "      <td>1.000000</td>\n",
       "      <td>1.000000</td>\n",
       "      <td>1.000000</td>\n",
       "      <td>1.000000</td>\n",
       "      <td>1.213620e+06</td>\n",
       "    </tr>\n",
       "    <tr>\n",
       "      <th>25%</th>\n",
       "      <td>1.200000e+08</td>\n",
       "      <td>3372.000000</td>\n",
       "      <td>1.494400e+05</td>\n",
       "      <td>3.000000</td>\n",
       "      <td>2.000000</td>\n",
       "      <td>85.000000</td>\n",
       "      <td>129.500000</td>\n",
       "      <td>1.000000</td>\n",
       "      <td>8.563078e+06</td>\n",
       "    </tr>\n",
       "    <tr>\n",
       "      <th>50%</th>\n",
       "      <td>2.050000e+08</td>\n",
       "      <td>5760.000000</td>\n",
       "      <td>2.552930e+05</td>\n",
       "      <td>4.000000</td>\n",
       "      <td>2.000000</td>\n",
       "      <td>128.000000</td>\n",
       "      <td>210.000000</td>\n",
       "      <td>2.000000</td>\n",
       "      <td>1.054807e+07</td>\n",
       "    </tr>\n",
       "    <tr>\n",
       "      <th>75%</th>\n",
       "      <td>4.911420e+08</td>\n",
       "      <td>13800.000000</td>\n",
       "      <td>6.116340e+05</td>\n",
       "      <td>5.000000</td>\n",
       "      <td>3.000000</td>\n",
       "      <td>200.000000</td>\n",
       "      <td>443.000000</td>\n",
       "      <td>3.000000</td>\n",
       "      <td>1.152463e+07</td>\n",
       "    </tr>\n",
       "    <tr>\n",
       "      <th>max</th>\n",
       "      <td>5.516450e+09</td>\n",
       "      <td>155000.000000</td>\n",
       "      <td>6.869801e+06</td>\n",
       "      <td>27.000000</td>\n",
       "      <td>29.000000</td>\n",
       "      <td>120000.000000</td>\n",
       "      <td>678000.000000</td>\n",
       "      <td>1269.000000</td>\n",
       "      <td>1.234149e+07</td>\n",
       "    </tr>\n",
       "  </tbody>\n",
       "</table>\n",
       "</div>"
      ],
      "text/plain": [
       "          Price_CLP       Price_UF     Price_USD        Dorms        Baths  \\\n",
       "count  7.779000e+03    7779.000000  7.779000e+03  7779.000000  7714.000000   \n",
       "mean   3.642481e+08   10234.571153  4.536091e+05     3.994087     2.653746   \n",
       "std    3.868810e+08   10870.491584  4.817945e+05     1.622821     1.465103   \n",
       "min    2.085000e+03       0.000000  3.000000e+00     1.000000     1.000000   \n",
       "25%    1.200000e+08    3372.000000  1.494400e+05     3.000000     2.000000   \n",
       "50%    2.050000e+08    5760.000000  2.552930e+05     4.000000     2.000000   \n",
       "75%    4.911420e+08   13800.000000  6.116340e+05     5.000000     3.000000   \n",
       "max    5.516450e+09  155000.000000  6.869801e+06    27.000000    29.000000   \n",
       "\n",
       "          Built Area     Total Area      Parking            id  \n",
       "count    7533.000000    7571.000000  5489.000000  7.779000e+03  \n",
       "mean      229.923669     807.919826     2.980506  9.910828e+06  \n",
       "std      1676.898812    9050.893115    17.749384  2.046317e+06  \n",
       "min         1.000000       1.000000     1.000000  1.213620e+06  \n",
       "25%        85.000000     129.500000     1.000000  8.563078e+06  \n",
       "50%       128.000000     210.000000     2.000000  1.054807e+07  \n",
       "75%       200.000000     443.000000     3.000000  1.152463e+07  \n",
       "max    120000.000000  678000.000000  1269.000000  1.234149e+07  "
      ]
     },
     "execution_count": 6,
     "metadata": {},
     "output_type": "execute_result"
    }
   ],
   "source": [
    "df.describe()"
   ]
  },
  {
   "cell_type": "code",
   "execution_count": 7,
   "metadata": {},
   "outputs": [
    {
     "data": {
      "text/html": [
       "<div>\n",
       "<style scoped>\n",
       "    .dataframe tbody tr th:only-of-type {\n",
       "        vertical-align: middle;\n",
       "    }\n",
       "\n",
       "    .dataframe tbody tr th {\n",
       "        vertical-align: top;\n",
       "    }\n",
       "\n",
       "    .dataframe thead th {\n",
       "        text-align: right;\n",
       "    }\n",
       "</style>\n",
       "<table border=\"1\" class=\"dataframe\">\n",
       "  <thead>\n",
       "    <tr style=\"text-align: right;\">\n",
       "      <th></th>\n",
       "      <th>Price_CLP</th>\n",
       "      <th>Price_UF</th>\n",
       "      <th>Price_USD</th>\n",
       "      <th>Comuna</th>\n",
       "      <th>Ubicacion</th>\n",
       "      <th>Dorms</th>\n",
       "      <th>Baths</th>\n",
       "      <th>Built Area</th>\n",
       "      <th>Total Area</th>\n",
       "      <th>Parking</th>\n",
       "      <th>id</th>\n",
       "      <th>Realtor</th>\n",
       "    </tr>\n",
       "  </thead>\n",
       "  <tbody>\n",
       "    <tr>\n",
       "      <th>4579</th>\n",
       "      <td>540000000</td>\n",
       "      <td>15173</td>\n",
       "      <td>672478</td>\n",
       "      <td>Independencia</td>\n",
       "      <td>maruri344</td>\n",
       "      <td>27</td>\n",
       "      <td>6.0</td>\n",
       "      <td>651.0</td>\n",
       "      <td>651.0</td>\n",
       "      <td>NaN</td>\n",
       "      <td>11244076</td>\n",
       "      <td>Todo Propiedades</td>\n",
       "    </tr>\n",
       "  </tbody>\n",
       "</table>\n",
       "</div>"
      ],
      "text/plain": [
       "      Price_CLP  Price_UF  Price_USD         Comuna  Ubicacion  Dorms  Baths  \\\n",
       "4579  540000000     15173     672478  Independencia  maruri344     27    6.0   \n",
       "\n",
       "      Built Area  Total Area  Parking        id           Realtor  \n",
       "4579       651.0       651.0      NaN  11244076  Todo Propiedades  "
      ]
     },
     "execution_count": 7,
     "metadata": {},
     "output_type": "execute_result"
    }
   ],
   "source": [
    "df[df[\"Dorms\"] == df[\"Dorms\"].max()]"
   ]
  },
  {
   "cell_type": "code",
   "execution_count": 8,
   "metadata": {},
   "outputs": [
    {
     "data": {
      "text/html": [
       "<div>\n",
       "<style scoped>\n",
       "    .dataframe tbody tr th:only-of-type {\n",
       "        vertical-align: middle;\n",
       "    }\n",
       "\n",
       "    .dataframe tbody tr th {\n",
       "        vertical-align: top;\n",
       "    }\n",
       "\n",
       "    .dataframe thead th {\n",
       "        text-align: right;\n",
       "    }\n",
       "</style>\n",
       "<table border=\"1\" class=\"dataframe\">\n",
       "  <thead>\n",
       "    <tr style=\"text-align: right;\">\n",
       "      <th></th>\n",
       "      <th>Price_CLP</th>\n",
       "      <th>Price_UF</th>\n",
       "      <th>Price_USD</th>\n",
       "      <th>Comuna</th>\n",
       "      <th>Ubicacion</th>\n",
       "      <th>Dorms</th>\n",
       "      <th>Baths</th>\n",
       "      <th>Built Area</th>\n",
       "      <th>Total Area</th>\n",
       "      <th>Parking</th>\n",
       "      <th>id</th>\n",
       "      <th>Realtor</th>\n",
       "    </tr>\n",
       "  </thead>\n",
       "  <tbody>\n",
       "    <tr>\n",
       "      <th>5838</th>\n",
       "      <td>1850680000</td>\n",
       "      <td>52000</td>\n",
       "      <td>2304707</td>\n",
       "      <td>Santiago</td>\n",
       "      <td>Hotel</td>\n",
       "      <td>25</td>\n",
       "      <td>29.0</td>\n",
       "      <td>1200.0</td>\n",
       "      <td>500.0</td>\n",
       "      <td>6.0</td>\n",
       "      <td>5345651</td>\n",
       "      <td>Nativo Propiedades</td>\n",
       "    </tr>\n",
       "  </tbody>\n",
       "</table>\n",
       "</div>"
      ],
      "text/plain": [
       "       Price_CLP  Price_UF  Price_USD    Comuna Ubicacion  Dorms  Baths  \\\n",
       "5838  1850680000     52000    2304707  Santiago     Hotel     25   29.0   \n",
       "\n",
       "      Built Area  Total Area  Parking       id             Realtor  \n",
       "5838      1200.0       500.0      6.0  5345651  Nativo Propiedades  "
      ]
     },
     "execution_count": 8,
     "metadata": {},
     "output_type": "execute_result"
    }
   ],
   "source": [
    "df[df[\"Baths\"] == df[\"Baths\"].max()]"
   ]
  },
  {
   "cell_type": "code",
   "execution_count": 9,
   "metadata": {},
   "outputs": [
    {
     "data": {
      "text/html": [
       "<div>\n",
       "<style scoped>\n",
       "    .dataframe tbody tr th:only-of-type {\n",
       "        vertical-align: middle;\n",
       "    }\n",
       "\n",
       "    .dataframe tbody tr th {\n",
       "        vertical-align: top;\n",
       "    }\n",
       "\n",
       "    .dataframe thead th {\n",
       "        text-align: right;\n",
       "    }\n",
       "</style>\n",
       "<table border=\"1\" class=\"dataframe\">\n",
       "  <thead>\n",
       "    <tr style=\"text-align: right;\">\n",
       "      <th></th>\n",
       "      <th>Price_CLP</th>\n",
       "      <th>Price_UF</th>\n",
       "      <th>Price_USD</th>\n",
       "      <th>Comuna</th>\n",
       "      <th>Ubicacion</th>\n",
       "      <th>Dorms</th>\n",
       "      <th>Baths</th>\n",
       "      <th>Built Area</th>\n",
       "      <th>Total Area</th>\n",
       "      <th>Parking</th>\n",
       "      <th>id</th>\n",
       "      <th>Realtor</th>\n",
       "    </tr>\n",
       "  </thead>\n",
       "  <tbody>\n",
       "    <tr>\n",
       "      <th>253</th>\n",
       "      <td>925340000</td>\n",
       "      <td>26000</td>\n",
       "      <td>1152354</td>\n",
       "      <td>Ñuñoa</td>\n",
       "      <td>Hernancortes//pedrodevaldivia</td>\n",
       "      <td>11</td>\n",
       "      <td>4.0</td>\n",
       "      <td>567.0</td>\n",
       "      <td>702.0</td>\n",
       "      <td>1269.0</td>\n",
       "      <td>9275128</td>\n",
       "      <td>Unne</td>\n",
       "    </tr>\n",
       "  </tbody>\n",
       "</table>\n",
       "</div>"
      ],
      "text/plain": [
       "     Price_CLP  Price_UF  Price_USD Comuna                      Ubicacion  \\\n",
       "253  925340000     26000    1152354  Ñuñoa  Hernancortes//pedrodevaldivia   \n",
       "\n",
       "     Dorms  Baths  Built Area  Total Area  Parking       id Realtor  \n",
       "253     11    4.0       567.0       702.0   1269.0  9275128    Unne  "
      ]
     },
     "execution_count": 9,
     "metadata": {},
     "output_type": "execute_result"
    }
   ],
   "source": [
    "df[df[\"Parking\"] == df[\"Parking\"].max()]"
   ]
  },
  {
   "cell_type": "code",
   "execution_count": 10,
   "metadata": {},
   "outputs": [
    {
     "data": {
      "text/html": [
       "<div>\n",
       "<style scoped>\n",
       "    .dataframe tbody tr th:only-of-type {\n",
       "        vertical-align: middle;\n",
       "    }\n",
       "\n",
       "    .dataframe tbody tr th {\n",
       "        vertical-align: top;\n",
       "    }\n",
       "\n",
       "    .dataframe thead th {\n",
       "        text-align: right;\n",
       "    }\n",
       "</style>\n",
       "<table border=\"1\" class=\"dataframe\">\n",
       "  <thead>\n",
       "    <tr style=\"text-align: right;\">\n",
       "      <th></th>\n",
       "      <th>Price_CLP</th>\n",
       "      <th>Price_UF</th>\n",
       "      <th>Price_USD</th>\n",
       "      <th>Comuna</th>\n",
       "      <th>Ubicacion</th>\n",
       "      <th>Dorms</th>\n",
       "      <th>Baths</th>\n",
       "      <th>Built Area</th>\n",
       "      <th>Total Area</th>\n",
       "      <th>Parking</th>\n",
       "      <th>id</th>\n",
       "      <th>Realtor</th>\n",
       "    </tr>\n",
       "  </thead>\n",
       "  <tbody>\n",
       "    <tr>\n",
       "      <th>2767</th>\n",
       "      <td>729595000</td>\n",
       "      <td>20500</td>\n",
       "      <td>908587</td>\n",
       "      <td>Colina</td>\n",
       "      <td>LosIngleses</td>\n",
       "      <td>9</td>\n",
       "      <td>7.0</td>\n",
       "      <td>415.0</td>\n",
       "      <td>5000.0</td>\n",
       "      <td>30.0</td>\n",
       "      <td>9635872</td>\n",
       "      <td>Easyprop</td>\n",
       "    </tr>\n",
       "    <tr>\n",
       "      <th>5309</th>\n",
       "      <td>320000000</td>\n",
       "      <td>8991</td>\n",
       "      <td>398506</td>\n",
       "      <td>Peñaflor</td>\n",
       "      <td>LosNogalesdeDonToribio</td>\n",
       "      <td>7</td>\n",
       "      <td>5.0</td>\n",
       "      <td>400.0</td>\n",
       "      <td>5000.0</td>\n",
       "      <td>30.0</td>\n",
       "      <td>9338062</td>\n",
       "      <td>Grupo Premium Propiedades Santiago</td>\n",
       "    </tr>\n",
       "  </tbody>\n",
       "</table>\n",
       "</div>"
      ],
      "text/plain": [
       "      Price_CLP  Price_UF  Price_USD    Comuna               Ubicacion  Dorms  \\\n",
       "2767  729595000     20500     908587    Colina             LosIngleses      9   \n",
       "5309  320000000      8991     398506  Peñaflor  LosNogalesdeDonToribio      7   \n",
       "\n",
       "      Baths  Built Area  Total Area  Parking       id  \\\n",
       "2767    7.0       415.0      5000.0     30.0  9635872   \n",
       "5309    5.0       400.0      5000.0     30.0  9338062   \n",
       "\n",
       "                                 Realtor  \n",
       "2767                            Easyprop  \n",
       "5309  Grupo Premium Propiedades Santiago  "
      ]
     },
     "execution_count": 10,
     "metadata": {},
     "output_type": "execute_result"
    }
   ],
   "source": [
    "df[df[\"Parking\"] == 30.0]"
   ]
  },
  {
   "cell_type": "code",
   "execution_count": 11,
   "metadata": {},
   "outputs": [
    {
     "data": {
      "text/html": [
       "<div>\n",
       "<style scoped>\n",
       "    .dataframe tbody tr th:only-of-type {\n",
       "        vertical-align: middle;\n",
       "    }\n",
       "\n",
       "    .dataframe tbody tr th {\n",
       "        vertical-align: top;\n",
       "    }\n",
       "\n",
       "    .dataframe thead th {\n",
       "        text-align: right;\n",
       "    }\n",
       "</style>\n",
       "<table border=\"1\" class=\"dataframe\">\n",
       "  <thead>\n",
       "    <tr style=\"text-align: right;\">\n",
       "      <th></th>\n",
       "      <th>Price_CLP</th>\n",
       "      <th>Price_UF</th>\n",
       "      <th>Price_USD</th>\n",
       "      <th>Comuna</th>\n",
       "      <th>Ubicacion</th>\n",
       "      <th>Dorms</th>\n",
       "      <th>Baths</th>\n",
       "      <th>Built Area</th>\n",
       "      <th>Total Area</th>\n",
       "      <th>Parking</th>\n",
       "      <th>id</th>\n",
       "      <th>Realtor</th>\n",
       "    </tr>\n",
       "  </thead>\n",
       "  <tbody>\n",
       "    <tr>\n",
       "      <th>5583</th>\n",
       "      <td>266925000</td>\n",
       "      <td>7500</td>\n",
       "      <td>332410</td>\n",
       "      <td>Tiltil</td>\n",
       "      <td>Sevendecasaconampliaparcelaentiltil</td>\n",
       "      <td>4</td>\n",
       "      <td>3.0</td>\n",
       "      <td>250.0</td>\n",
       "      <td>6000.0</td>\n",
       "      <td>1.0</td>\n",
       "      <td>10215663</td>\n",
       "      <td>Movahome Corredores Integrados</td>\n",
       "    </tr>\n",
       "    <tr>\n",
       "      <th>5584</th>\n",
       "      <td>266925000</td>\n",
       "      <td>7500</td>\n",
       "      <td>332410</td>\n",
       "      <td>Tiltil</td>\n",
       "      <td>Sevendecasaconampliaparcelaentiltil</td>\n",
       "      <td>4</td>\n",
       "      <td>3.0</td>\n",
       "      <td>250.0</td>\n",
       "      <td>6000.0</td>\n",
       "      <td>1.0</td>\n",
       "      <td>10215663</td>\n",
       "      <td>Movahome Corredores Integrados</td>\n",
       "    </tr>\n",
       "  </tbody>\n",
       "</table>\n",
       "</div>"
      ],
      "text/plain": [
       "      Price_CLP  Price_UF  Price_USD  Comuna  \\\n",
       "5583  266925000      7500     332410  Tiltil   \n",
       "5584  266925000      7500     332410  Tiltil   \n",
       "\n",
       "                                Ubicacion  Dorms  Baths  Built Area  \\\n",
       "5583  Sevendecasaconampliaparcelaentiltil      4    3.0       250.0   \n",
       "5584  Sevendecasaconampliaparcelaentiltil      4    3.0       250.0   \n",
       "\n",
       "      Total Area  Parking        id                         Realtor  \n",
       "5583      6000.0      1.0  10215663  Movahome Corredores Integrados  \n",
       "5584      6000.0      1.0  10215663  Movahome Corredores Integrados  "
      ]
     },
     "execution_count": 11,
     "metadata": {},
     "output_type": "execute_result"
    }
   ],
   "source": [
    "duplicated_values = df[df.duplicated(subset=['id'], keep=False)]\n",
    "duplicated_values"
   ]
  },
  {
   "cell_type": "markdown",
   "metadata": {},
   "source": [
    "## Inconsistencias en los datos\n",
    "\n",
    "El resumen muestra que las columnas de Parking, Realtor, Built Area, Total Area y Baths poseen datos de tipo NaN. Por otro lado, tenemos columnas con valores redundantes o que poseen una dependencia, como es el caso de las columnas de precio en UF y precio en USD, que son valores que se pueden calcular a partir de Precio en CLP. La columna Price_UF posee una valor mínimo de 0 lo que no es coherente con el valor en pesos. En la columna Dorms hay una propiedad que presenta 27 dormitorios, y en la columna Baths hay una que presenta 29.0 baños, esta ubicación corresponde a un Hotel. En Parking se observa una propiedad con 1269.0 estacionamientos. En cuanto a los tipos de datos, hay inconsistencias en Price_UF y Price_USD ya que deberían ser `float`, y sin embargo son `int`. La columna Price_CLP corresponde que sea `int` ya que no se trabaja con fracciones de pesos en Chile. Dorms y Parking se leyeron como `float` pero deberían ser `int` ya que son datos discretos, y que no aceptan valores intermedios. Finalmente tenemos un dato duplicado que corresponde al id: 10215663."
   ]
  },
  {
   "cell_type": "markdown",
   "metadata": {},
   "source": [
    "# Limpieza de los datos"
   ]
  },
  {
   "cell_type": "markdown",
   "metadata": {},
   "source": [
    "### Elminar Duplicados"
   ]
  },
  {
   "cell_type": "code",
   "execution_count": 12,
   "metadata": {},
   "outputs": [],
   "source": [
    "booleand_mask = df.duplicated(subset=['id'], keep='last')\n",
    "df = df[~booleand_mask]"
   ]
  },
  {
   "cell_type": "markdown",
   "metadata": {},
   "source": [
    "### Elminar datos NaN"
   ]
  },
  {
   "cell_type": "code",
   "execution_count": 14,
   "metadata": {},
   "outputs": [
    {
     "name": "stdout",
     "output_type": "stream",
     "text": [
      "Average of Parking: 3\n"
     ]
    }
   ],
   "source": [
    "from math import ceil\n",
    "avg_parking = df[\"Parking\"].astype(\"float\").mean(axis=0)\n",
    "avg_parking = ceil(avg_parking)\n",
    "df[\"Parking\"].replace(np.nan, avg_parking, inplace=True)\n",
    "print(\"Average of Parking:\", avg_parking)"
   ]
  },
  {
   "cell_type": "code",
   "execution_count": 15,
   "metadata": {},
   "outputs": [
    {
     "name": "stdout",
     "output_type": "stream",
     "text": [
      "Average of Built Area: 229.92\n"
     ]
    }
   ],
   "source": [
    "avg_built_area = df[\"Built Area\"].astype(\"float\").mean(axis=0)\n",
    "avg_built_area = round(avg_built_area, 2)\n",
    "df[\"Built Area\"].replace(np.nan, avg_built_area, inplace=True)\n",
    "print(\"Average of Built Area:\", avg_built_area)"
   ]
  },
  {
   "cell_type": "code",
   "execution_count": 16,
   "metadata": {},
   "outputs": [
    {
     "name": "stdout",
     "output_type": "stream",
     "text": [
      "Average of Total Area: 807.23\n"
     ]
    }
   ],
   "source": [
    "avg_total_area = df[\"Total Area\"].astype(\"float\").mean(axis=0)\n",
    "avg_total_area = round(avg_total_area, 2)\n",
    "df[\"Total Area\"].replace(np.nan, avg_total_area, inplace=True)\n",
    "print(\"Average of Total Area:\", avg_total_area)"
   ]
  },
  {
   "cell_type": "code",
   "execution_count": 17,
   "metadata": {},
   "outputs": [
    {
     "name": "stdout",
     "output_type": "stream",
     "text": [
      "Average of Baths: 3\n"
     ]
    }
   ],
   "source": [
    "avg_baths = df[\"Baths\"].astype(\"float\").mean(axis=0)\n",
    "avg_baths = ceil(avg_baths)\n",
    "df[\"Baths\"].replace(np.nan, avg_baths, inplace=True)\n",
    "print(\"Average of Baths:\", avg_baths)"
   ]
  },
  {
   "cell_type": "code",
   "execution_count": 18,
   "metadata": {},
   "outputs": [
    {
     "name": "stdout",
     "output_type": "stream",
     "text": [
      "Mode of Realtor: Unne\n"
     ]
    }
   ],
   "source": [
    "mode_realtor = df[\"Realtor\"].value_counts().idxmax()\n",
    "df[\"Realtor\"].replace(np.nan, mode_realtor, inplace=True)\n",
    "print(\"Mode of Realtor:\", mode_realtor)"
   ]
  },
  {
   "cell_type": "code",
   "execution_count": 19,
   "metadata": {},
   "outputs": [
    {
     "data": {
      "text/plain": [
       "Price_CLP     0\n",
       "Price_UF      0\n",
       "Price_USD     0\n",
       "Comuna        0\n",
       "Ubicacion     0\n",
       "Dorms         0\n",
       "Baths         0\n",
       "Built Area    0\n",
       "Total Area    0\n",
       "Parking       0\n",
       "id            0\n",
       "Realtor       0\n",
       "dtype: int64"
      ]
     },
     "execution_count": 19,
     "metadata": {},
     "output_type": "execute_result"
    }
   ],
   "source": [
    "df.isna().sum().sort_values(ascending=False)"
   ]
  },
  {
   "cell_type": "markdown",
   "metadata": {},
   "source": [
    "### Cambiar tipos de dato"
   ]
  },
  {
   "cell_type": "code",
   "execution_count": 20,
   "metadata": {},
   "outputs": [
    {
     "name": "stdout",
     "output_type": "stream",
     "text": [
      "<class 'pandas.core.frame.DataFrame'>\n",
      "Index: 7778 entries, 0 to 7778\n",
      "Data columns (total 12 columns):\n",
      " #   Column      Non-Null Count  Dtype  \n",
      "---  ------      --------------  -----  \n",
      " 0   Price_CLP   7778 non-null   int64  \n",
      " 1   Price_UF    7778 non-null   float64\n",
      " 2   Price_USD   7778 non-null   float64\n",
      " 3   Comuna      7778 non-null   object \n",
      " 4   Ubicacion   7778 non-null   object \n",
      " 5   Dorms       7778 non-null   int32  \n",
      " 6   Baths       7778 non-null   float64\n",
      " 7   Built Area  7778 non-null   float64\n",
      " 8   Total Area  7778 non-null   float64\n",
      " 9   Parking     7778 non-null   int32  \n",
      " 10  id          7778 non-null   int64  \n",
      " 11  Realtor     7778 non-null   object \n",
      "dtypes: float64(5), int32(2), int64(2), object(3)\n",
      "memory usage: 729.2+ KB\n"
     ]
    }
   ],
   "source": [
    "df[[\"Price_USD\", \"Price_UF\"]] = df[[\"Price_USD\", \"Price_UF\"]].astype(\"float\")\n",
    "df[[\"Dorms\", \"Parking\"]] = df[[\"Dorms\", \"Parking\"]].astype(\"int\")\n",
    "\n",
    "df.info()"
   ]
  },
  {
   "cell_type": "code",
   "execution_count": 13,
   "metadata": {},
   "outputs": [
    {
     "data": {
      "text/html": [
       "<div>\n",
       "<style scoped>\n",
       "    .dataframe tbody tr th:only-of-type {\n",
       "        vertical-align: middle;\n",
       "    }\n",
       "\n",
       "    .dataframe tbody tr th {\n",
       "        vertical-align: top;\n",
       "    }\n",
       "\n",
       "    .dataframe thead th {\n",
       "        text-align: right;\n",
       "    }\n",
       "</style>\n",
       "<table border=\"1\" class=\"dataframe\">\n",
       "  <thead>\n",
       "    <tr style=\"text-align: right;\">\n",
       "      <th></th>\n",
       "      <th>Price_CLP</th>\n",
       "      <th>Price_UF</th>\n",
       "      <th>Price_USD</th>\n",
       "      <th>Comuna</th>\n",
       "      <th>Ubicacion</th>\n",
       "      <th>Dorms</th>\n",
       "      <th>Baths</th>\n",
       "      <th>Built Area</th>\n",
       "      <th>Total Area</th>\n",
       "      <th>Parking</th>\n",
       "      <th>id</th>\n",
       "      <th>Realtor</th>\n",
       "    </tr>\n",
       "  </thead>\n",
       "  <tbody>\n",
       "    <tr>\n",
       "      <th>253</th>\n",
       "      <td>925340000</td>\n",
       "      <td>26000</td>\n",
       "      <td>1152354</td>\n",
       "      <td>Ñuñoa</td>\n",
       "      <td>Hernancortes//pedrodevaldivia</td>\n",
       "      <td>11</td>\n",
       "      <td>4.0</td>\n",
       "      <td>567.0</td>\n",
       "      <td>702.0</td>\n",
       "      <td>1269.0</td>\n",
       "      <td>9275128</td>\n",
       "      <td>Unne</td>\n",
       "    </tr>\n",
       "    <tr>\n",
       "      <th>1495</th>\n",
       "      <td>209981000</td>\n",
       "      <td>5900</td>\n",
       "      <td>261496</td>\n",
       "      <td>EstaciónCentral</td>\n",
       "      <td>GeneralVelásquez</td>\n",
       "      <td>3</td>\n",
       "      <td>2.0</td>\n",
       "      <td>150.0</td>\n",
       "      <td>150.0</td>\n",
       "      <td>307.0</td>\n",
       "      <td>11978650</td>\n",
       "      <td>Easyprop</td>\n",
       "    </tr>\n",
       "    <tr>\n",
       "      <th>5146</th>\n",
       "      <td>770523500</td>\n",
       "      <td>21650</td>\n",
       "      <td>959556</td>\n",
       "      <td>Peñaflor</td>\n",
       "      <td>LasPalmeras</td>\n",
       "      <td>3</td>\n",
       "      <td>5.0</td>\n",
       "      <td>505.0</td>\n",
       "      <td>7332.0</td>\n",
       "      <td>60.0</td>\n",
       "      <td>9338146</td>\n",
       "      <td>Grupo Premium Propiedades Santiago</td>\n",
       "    </tr>\n",
       "    <tr>\n",
       "      <th>5309</th>\n",
       "      <td>320000000</td>\n",
       "      <td>8991</td>\n",
       "      <td>398506</td>\n",
       "      <td>Peñaflor</td>\n",
       "      <td>LosNogalesdeDonToribio</td>\n",
       "      <td>7</td>\n",
       "      <td>5.0</td>\n",
       "      <td>400.0</td>\n",
       "      <td>5000.0</td>\n",
       "      <td>30.0</td>\n",
       "      <td>9338062</td>\n",
       "      <td>Grupo Premium Propiedades Santiago</td>\n",
       "    </tr>\n",
       "    <tr>\n",
       "      <th>2767</th>\n",
       "      <td>729595000</td>\n",
       "      <td>20500</td>\n",
       "      <td>908587</td>\n",
       "      <td>Colina</td>\n",
       "      <td>LosIngleses</td>\n",
       "      <td>9</td>\n",
       "      <td>7.0</td>\n",
       "      <td>415.0</td>\n",
       "      <td>5000.0</td>\n",
       "      <td>30.0</td>\n",
       "      <td>9635872</td>\n",
       "      <td>Easyprop</td>\n",
       "    </tr>\n",
       "    <tr>\n",
       "      <th>6890</th>\n",
       "      <td>1420041000</td>\n",
       "      <td>39900</td>\n",
       "      <td>1768420</td>\n",
       "      <td>Vitacura</td>\n",
       "      <td>VíaEscarlata</td>\n",
       "      <td>5</td>\n",
       "      <td>6.0</td>\n",
       "      <td>714.0</td>\n",
       "      <td>2000.0</td>\n",
       "      <td>23.0</td>\n",
       "      <td>5881334</td>\n",
       "      <td>Unne</td>\n",
       "    </tr>\n",
       "    <tr>\n",
       "      <th>2694</th>\n",
       "      <td>1420041000</td>\n",
       "      <td>39900</td>\n",
       "      <td>1768420</td>\n",
       "      <td>Vitacura</td>\n",
       "      <td>ClubMilitarLoCurro</td>\n",
       "      <td>5</td>\n",
       "      <td>5.0</td>\n",
       "      <td>714.0</td>\n",
       "      <td>5640.0</td>\n",
       "      <td>23.0</td>\n",
       "      <td>11680591</td>\n",
       "      <td>Unne</td>\n",
       "    </tr>\n",
       "    <tr>\n",
       "      <th>5960</th>\n",
       "      <td>708241000</td>\n",
       "      <td>19900</td>\n",
       "      <td>881994</td>\n",
       "      <td>Colina</td>\n",
       "      <td>PoloManquehue</td>\n",
       "      <td>5</td>\n",
       "      <td>5.0</td>\n",
       "      <td>404.0</td>\n",
       "      <td>5595.0</td>\n",
       "      <td>22.0</td>\n",
       "      <td>7735656</td>\n",
       "      <td>Unne</td>\n",
       "    </tr>\n",
       "    <tr>\n",
       "      <th>5860</th>\n",
       "      <td>106058200</td>\n",
       "      <td>2980</td>\n",
       "      <td>132077</td>\n",
       "      <td>Peñalolén</td>\n",
       "      <td>TaguaTagua/ManutaraMunicipalidadPeñalolén</td>\n",
       "      <td>3</td>\n",
       "      <td>1.0</td>\n",
       "      <td>71.0</td>\n",
       "      <td>121.0</td>\n",
       "      <td>22.0</td>\n",
       "      <td>11100774</td>\n",
       "      <td>Nexxos</td>\n",
       "    </tr>\n",
       "    <tr>\n",
       "      <th>2756</th>\n",
       "      <td>1281240000</td>\n",
       "      <td>36000</td>\n",
       "      <td>1595567</td>\n",
       "      <td>Colina</td>\n",
       "      <td>lasbrisaschicureo</td>\n",
       "      <td>4</td>\n",
       "      <td>4.0</td>\n",
       "      <td>327.0</td>\n",
       "      <td>10153.0</td>\n",
       "      <td>22.0</td>\n",
       "      <td>7091820</td>\n",
       "      <td>Unne</td>\n",
       "    </tr>\n",
       "  </tbody>\n",
       "</table>\n",
       "</div>"
      ],
      "text/plain": [
       "       Price_CLP  Price_UF  Price_USD           Comuna  \\\n",
       "253    925340000     26000    1152354            Ñuñoa   \n",
       "1495   209981000      5900     261496  EstaciónCentral   \n",
       "5146   770523500     21650     959556         Peñaflor   \n",
       "5309   320000000      8991     398506         Peñaflor   \n",
       "2767   729595000     20500     908587           Colina   \n",
       "6890  1420041000     39900    1768420         Vitacura   \n",
       "2694  1420041000     39900    1768420         Vitacura   \n",
       "5960   708241000     19900     881994           Colina   \n",
       "5860   106058200      2980     132077        Peñalolén   \n",
       "2756  1281240000     36000    1595567           Colina   \n",
       "\n",
       "                                      Ubicacion  Dorms  Baths  Built Area  \\\n",
       "253               Hernancortes//pedrodevaldivia     11    4.0       567.0   \n",
       "1495                           GeneralVelásquez      3    2.0       150.0   \n",
       "5146                                LasPalmeras      3    5.0       505.0   \n",
       "5309                     LosNogalesdeDonToribio      7    5.0       400.0   \n",
       "2767                                LosIngleses      9    7.0       415.0   \n",
       "6890                               VíaEscarlata      5    6.0       714.0   \n",
       "2694                         ClubMilitarLoCurro      5    5.0       714.0   \n",
       "5960                              PoloManquehue      5    5.0       404.0   \n",
       "5860  TaguaTagua/ManutaraMunicipalidadPeñalolén      3    1.0        71.0   \n",
       "2756                          lasbrisaschicureo      4    4.0       327.0   \n",
       "\n",
       "      Total Area  Parking        id                             Realtor  \n",
       "253        702.0   1269.0   9275128                                Unne  \n",
       "1495       150.0    307.0  11978650                            Easyprop  \n",
       "5146      7332.0     60.0   9338146  Grupo Premium Propiedades Santiago  \n",
       "5309      5000.0     30.0   9338062  Grupo Premium Propiedades Santiago  \n",
       "2767      5000.0     30.0   9635872                            Easyprop  \n",
       "6890      2000.0     23.0   5881334                                Unne  \n",
       "2694      5640.0     23.0  11680591                                Unne  \n",
       "5960      5595.0     22.0   7735656                                Unne  \n",
       "5860       121.0     22.0  11100774                              Nexxos  \n",
       "2756     10153.0     22.0   7091820                                Unne  "
      ]
     },
     "execution_count": 13,
     "metadata": {},
     "output_type": "execute_result"
    }
   ],
   "source": [
    "df[df[\"Parking\"] >= 13.0].sort_values(by=\"Parking\", ascending=False)[:10]"
   ]
  }
 ],
 "metadata": {
  "kernelspec": {
   "display_name": "Python 3",
   "language": "python",
   "name": "python3"
  },
  "language_info": {
   "codemirror_mode": {
    "name": "ipython",
    "version": 3
   },
   "file_extension": ".py",
   "mimetype": "text/x-python",
   "name": "python",
   "nbconvert_exporter": "python",
   "pygments_lexer": "ipython3",
   "version": "3.11.5"
  }
 },
 "nbformat": 4,
 "nbformat_minor": 2
}
